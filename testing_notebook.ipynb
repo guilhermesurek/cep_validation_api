{
 "metadata": {
  "language_info": {
   "codemirror_mode": {
    "name": "ipython",
    "version": 3
   },
   "file_extension": ".py",
   "mimetype": "text/x-python",
   "name": "python",
   "nbconvert_exporter": "python",
   "pygments_lexer": "ipython3",
   "version": "3.8.5-final"
  },
  "orig_nbformat": 2,
  "kernelspec": {
   "name": "python3",
   "display_name": "Python 3.8.5 64-bit",
   "metadata": {
    "interpreter": {
     "hash": "e2bf9aa1f3998d07beaaa257009669744cadfbd1c44f1fe55fde5c94422c14be"
    }
   }
  }
 },
 "nbformat": 4,
 "nbformat_minor": 2,
 "cells": [
  {
   "source": [
    "# Test - Load local files"
   ],
   "cell_type": "markdown",
   "metadata": {}
  },
  {
   "cell_type": "code",
   "execution_count": null,
   "metadata": {},
   "outputs": [],
   "source": [
    "import pandas as pd\n",
    "## ---- paths to local files ------\n",
    "l_path_cep = 'files/CEPs.csv' \n",
    "# From local sources\n",
    "cep_table = pd.read_csv(l_path_cep, converters={\"CEP_Root5\": str})\n",
    "# Number of lines\n",
    "print(f\"Number of lines: {cep_table.shape[0]}\")\n",
    "# Head\n",
    "cep_table.head(5)"
   ]
  },
  {
   "cell_type": "code",
   "execution_count": null,
   "metadata": {},
   "outputs": [],
   "source": [
    "input_data_cep = {1: '45123-000', 2: '81070-000', 3: '08230-000'}"
   ]
  },
  {
   "cell_type": "code",
   "execution_count": null,
   "metadata": {},
   "outputs": [],
   "source": [
    "from app import app\n",
    "with app.test_client() as c:\n",
    "        rv = c.get('/')\n",
    "        assert rv.data == b'API running!'"
   ]
  }
 ]
}