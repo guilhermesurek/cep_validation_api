{
 "metadata": {
  "language_info": {
   "codemirror_mode": {
    "name": "ipython",
    "version": 3
   },
   "file_extension": ".py",
   "mimetype": "text/x-python",
   "name": "python",
   "nbconvert_exporter": "python",
   "pygments_lexer": "ipython3",
   "version": "3.8.5-final"
  },
  "orig_nbformat": 2,
  "kernelspec": {
   "name": "python3",
   "display_name": "Python 3.8.5 64-bit",
   "metadata": {
    "interpreter": {
     "hash": "e2bf9aa1f3998d07beaaa257009669744cadfbd1c44f1fe55fde5c94422c14be"
    }
   }
  }
 },
 "nbformat": 4,
 "nbformat_minor": 2,
 "cells": [
  {
   "source": [
    "# Test - Load local files"
   ],
   "cell_type": "markdown",
   "metadata": {}
  },
  {
   "cell_type": "code",
   "execution_count": 12,
   "metadata": {},
   "outputs": [
    {
     "output_type": "stream",
     "name": "stdout",
     "text": [
      "Number of lines: 8806\n"
     ]
    },
    {
     "output_type": "execute_result",
     "data": {
      "text/plain": [
       "  CEP_Root5\n",
       "0     03129\n",
       "1     03130\n",
       "2     03131\n",
       "3     03132\n",
       "4     03133"
      ],
      "text/html": "<div>\n<style scoped>\n    .dataframe tbody tr th:only-of-type {\n        vertical-align: middle;\n    }\n\n    .dataframe tbody tr th {\n        vertical-align: top;\n    }\n\n    .dataframe thead th {\n        text-align: right;\n    }\n</style>\n<table border=\"1\" class=\"dataframe\">\n  <thead>\n    <tr style=\"text-align: right;\">\n      <th></th>\n      <th>CEP_Root5</th>\n    </tr>\n  </thead>\n  <tbody>\n    <tr>\n      <th>0</th>\n      <td>03129</td>\n    </tr>\n    <tr>\n      <th>1</th>\n      <td>03130</td>\n    </tr>\n    <tr>\n      <th>2</th>\n      <td>03131</td>\n    </tr>\n    <tr>\n      <th>3</th>\n      <td>03132</td>\n    </tr>\n    <tr>\n      <th>4</th>\n      <td>03133</td>\n    </tr>\n  </tbody>\n</table>\n</div>"
     },
     "metadata": {},
     "execution_count": 12
    }
   ],
   "source": [
    "import pandas as pd\n",
    "## ---- paths to local files ------\n",
    "l_path_cep = 'files/CEPs.csv' \n",
    "# From local sources\n",
    "cep_table = pd.read_csv(l_path_cep, converters={\"CEP_Root5\": str})\n",
    "# Number of lines\n",
    "print(f\"Number of lines: {cep_table.shape[0]}\")\n",
    "# Head\n",
    "cep_table.head(5)"
   ]
  },
  {
   "cell_type": "code",
   "execution_count": 40,
   "metadata": {},
   "outputs": [],
   "source": [
    "input_data_cep = {1: '45123-000', 2: '81070-000', 3: '08230-000'}"
   ]
  },
  {
   "cell_type": "code",
   "execution_count": null,
   "metadata": {},
   "outputs": [],
   "source": []
  }
 ]
}